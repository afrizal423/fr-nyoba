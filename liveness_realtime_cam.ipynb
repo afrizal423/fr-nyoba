{
 "cells": [
  {
   "cell_type": "code",
   "execution_count": 1,
   "id": "d796db00-7440-4631-88f7-3949cebc9cb6",
   "metadata": {},
   "outputs": [
    {
     "name": "stdout",
     "output_type": "stream",
     "text": [
      "WARNING:tensorflow:From D:\\project\\fr\\fr_qc\\myenv\\lib\\site-packages\\tf_keras\\src\\losses.py:2976: The name tf.losses.sparse_softmax_cross_entropy is deprecated. Please use tf.compat.v1.losses.sparse_softmax_cross_entropy instead.\n",
      "\n"
     ]
    }
   ],
   "source": [
    "from deepface import DeepFace\n",
    "#liveness\n",
    "import tensorflow as tf"
   ]
  },
  {
   "cell_type": "code",
   "execution_count": 2,
   "id": "0dc73ffc-a02a-4243-8ef5-cfe0cf79bc18",
   "metadata": {},
   "outputs": [],
   "source": [
    "import cv2, numpy, datetime, keyboard"
   ]
  },
  {
   "cell_type": "code",
   "execution_count": 3,
   "id": "ec66e4b2-3de5-49e0-aa19-80ac36c85e33",
   "metadata": {},
   "outputs": [],
   "source": [
    "model = 'liveness.model'\n",
    "model = tf.keras.models.load_model(model)"
   ]
  },
  {
   "cell_type": "code",
   "execution_count": null,
   "id": "31563908-d86d-44a0-b0ad-0311c9b3d04d",
   "metadata": {},
   "outputs": [],
   "source": [
    "cap = cv2.VideoCapture(0)\n",
    "font = cv2.FONT_HERSHEY_SIMPLEX\n",
    "\n",
    "running = True\n",
    "ll=0\n",
    "while running:\n",
    "    state, frame = cap.read()\n",
    "    if state!=True:\n",
    "        break\n",
    "    res  = DeepFace.find(frame, db_path=\"KnownFaces\", enforce_detection=False, model_name='VGG-Face')\n",
    "    \n",
    "    \n",
    "    \n",
    "    # res\n",
    "    if len(res[0]['identity'])>0:\n",
    "        res[0]['identity']\n",
    "        name = res[0]['identity'][0].split('/')[0].split('\\\\')[1]\n",
    "        xmin = int(res[0]['source_x'][0])\n",
    "        ymin = int(res[0]['source_y'][0])\n",
    "        \n",
    "        w = res[0]['source_w'][0]\n",
    "        h = res[0]['source_h'][0]\n",
    "        \n",
    "        xmax = int(xmin + w)\n",
    "        ymax = int(ymin + h)\n",
    "        \n",
    "        #liveness\n",
    "        \n",
    "        img = frame[ymin:ymax, xmin:xmax]\n",
    "        cv2.imwrite(f\"ll2/{ll}gambarnyaaa.jpg\",img)\n",
    "        img = cv2.resize(img, (32,32))\n",
    "        \n",
    "        img = img.astype('float')/255.0\n",
    "        img = tf.keras.preprocessing.image.img_to_array(img)\n",
    "        img = numpy.expand_dims(img, axis=0)\n",
    "\n",
    "        \n",
    "\n",
    "        liveness = model.predict(img)\n",
    "        \n",
    "        liveness = liveness[0].argmax()\n",
    "\n",
    "        if liveness==1:\n",
    "            cv2.rectangle(frame, (xmin,ymin),(xmax,ymax), (0,255,0),1)\n",
    "            cv2.rectangle(frame, (xmin, ymin-25),(xmax, ymin),(255,255,255),-1)\n",
    "            cv2.putText(frame, name, (xmin,ymin), cv2.FONT_HERSHEY_SIMPLEX, 1, (255,0,0),2,cv2.LINE_AA)\n",
    "        else:\n",
    "            cv2.rectangle(frame, (xmin,ymin),(xmax,ymax), (0,255,0),1)\n",
    "            cv2.rectangle(frame, (xmin, ymin-25),(xmax, ymin),(255,255,255),-1)\n",
    "            cv2.putText(frame, \"FAKEEE\", (xmin,ymin), cv2.FONT_HERSHEY_SIMPLEX, 1, (255,0,0),2,cv2.LINE_AA)\n",
    "        \n",
    "    cv2.imshow('attendance', frame)\n",
    "    c = cv2.waitKey(1)\n",
    "    ll+=1\n",
    "\n",
    "    if c == ord('q'):\n",
    "        ll=0\n",
    "        break\n",
    "\n",
    "cap.release()\n",
    "cv2.destroyAllWindows()"
   ]
  },
  {
   "cell_type": "code",
   "execution_count": 10,
   "id": "4a5ee58e-ad37-44fc-9716-5858dea42eff",
   "metadata": {},
   "outputs": [
    {
     "data": {
      "text/plain": [
       "'dd2.png'"
      ]
     },
     "execution_count": 10,
     "metadata": {},
     "output_type": "execute_result"
    }
   ],
   "source": [
    "stt = f\"dd{2}.png\"\n",
    "stt"
   ]
  },
  {
   "cell_type": "code",
   "execution_count": null,
   "id": "603620a3-7b2c-4155-9b43-97253926acce",
   "metadata": {},
   "outputs": [],
   "source": []
  }
 ],
 "metadata": {
  "kernelspec": {
   "display_name": "Python 3 (ipykernel)",
   "language": "python",
   "name": "python3"
  },
  "language_info": {
   "codemirror_mode": {
    "name": "ipython",
    "version": 3
   },
   "file_extension": ".py",
   "mimetype": "text/x-python",
   "name": "python",
   "nbconvert_exporter": "python",
   "pygments_lexer": "ipython3",
   "version": "3.10.11"
  }
 },
 "nbformat": 4,
 "nbformat_minor": 5
}
