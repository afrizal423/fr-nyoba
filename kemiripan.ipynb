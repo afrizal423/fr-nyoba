{
 "cells": [
  {
   "cell_type": "code",
   "execution_count": 1,
   "id": "03c0bcc9-edc1-480e-8516-c89ef7fc499d",
   "metadata": {},
   "outputs": [
    {
     "name": "stdout",
     "output_type": "stream",
     "text": [
      "WARNING:tensorflow:From D:\\project\\fr\\fr_qc\\myenv\\lib\\site-packages\\tf_keras\\src\\losses.py:2976: The name tf.losses.sparse_softmax_cross_entropy is deprecated. Please use tf.compat.v1.losses.sparse_softmax_cross_entropy instead.\n",
      "\n"
     ]
    }
   ],
   "source": [
    "from deepface import DeepFace\n",
    "import recognition as dfr\n",
    "import os"
   ]
  },
  {
   "cell_type": "markdown",
   "id": "5137c2ea-5060-4abd-9672-c82e64ef2439",
   "metadata": {},
   "source": [
    "![alt text](test_image/1.jpg \"Gambar 1\")"
   ]
  },
  {
   "cell_type": "code",
   "execution_count": 2,
   "id": "c23063de-eb5e-4b41-aabf-fc7abbf255bf",
   "metadata": {},
   "outputs": [
    {
     "name": "stdout",
     "output_type": "stream",
     "text": [
      "24-06-01 09:57:33 - Could be some changes in KnownFaces not tracked.Set refresh_database to true to assure that any changes will be tracked.\n",
      "24-06-01 09:57:33 - Searching test_image/1.jpg in 39 length datastore\n",
      "24-06-01 09:57:36 - find function duration 2.730382204055786 seconds\n"
     ]
    },
    {
     "data": {
      "text/plain": [
       "[             identity                                      hash  target_x  \\\n",
       " 0   KnownFaces/5.jpeg  95c6e97d7271f0f8290924478c5263cbd7439a88       308   \n",
       " 1  KnownFaces/15.jpeg  d3c2cdb957dbfadd3f1c22f823d6f62899df743b       199   \n",
       " 2   KnownFaces/6.jpeg  5f068e6cb01b3ae45980aaf6b4884320d5dc160b       592   \n",
       " 3  KnownFaces/19.jpeg  2b905492e34beb41350b32fbb6544b89552fd4ee       121   \n",
       " \n",
       "    target_y  target_w  target_h  source_x  source_y  source_w  source_h  \\\n",
       " 0        73        86        86       547       226       188       188   \n",
       " 1        72       216       216       547       226       188       188   \n",
       " 2       232       179       179       547       226       188       188   \n",
       " 3        76       178       178       547       226       188       188   \n",
       " \n",
       "    threshold  distance  \n",
       " 0       0.68  0.621848  \n",
       " 1       0.68  0.627867  \n",
       " 2       0.68  0.664961  \n",
       " 3       0.68  0.679423  ]"
      ]
     },
     "execution_count": 2,
     "metadata": {},
     "output_type": "execute_result"
    }
   ],
   "source": [
    "dfr.find(img_path = \"test_image/1.jpg\", \n",
    "                db_path = \"KnownFaces\", \n",
    "                model_name = \"VGG-Face\", \n",
    "                distance_metric = \"cosine\", \n",
    "                detector_backend = \"opencv\",\n",
    "                silent = False,\n",
    "                refresh_database = False\n",
    "            )"
   ]
  },
  {
   "cell_type": "markdown",
   "id": "aa2ffd0a-2e05-4a78-9a38-f7092d09b9e5",
   "metadata": {},
   "source": [
    "![alt text](test_image/x1.jpeg \"Gambar 2\")"
   ]
  },
  {
   "cell_type": "code",
   "execution_count": 3,
   "id": "ac39e74c-39cd-4e4f-b31f-3023572ca392",
   "metadata": {},
   "outputs": [
    {
     "name": "stdout",
     "output_type": "stream",
     "text": [
      "24-06-01 09:57:36 - Could be some changes in KnownFaces not tracked.Set refresh_database to true to assure that any changes will be tracked.\n",
      "24-06-01 09:57:36 - Searching test_image/x1.jpeg in 39 length datastore\n",
      "24-06-01 09:57:37 - find function duration 0.6027302742004395 seconds\n"
     ]
    },
    {
     "data": {
      "text/plain": [
       "[              identity                                      hash  target_x  \\\n",
       " 0    KnownFaces/20.jpg  4defe3660f42e7e51328723a2b8d44bf93da9cc4       233   \n",
       " 1    KnownFaces/12.jpg  dbd52cd18b12ffd6c2fe7c9fd0ebdd42327e899d       354   \n",
       " 2   KnownFaces/19.jpeg  2b905492e34beb41350b32fbb6544b89552fd4ee       121   \n",
       " 3     KnownFaces/2.jpg  16af9363c0924c7d71dadd82f2298c448824646f       307   \n",
       " 4    KnownFaces/5.jpeg  95c6e97d7271f0f8290924478c5263cbd7439a88       308   \n",
       " 5    KnownFaces/10.jpg  97eff64ed6e003d5302bf441b47f7514aecddb55       271   \n",
       " 6    KnownFaces/4.jpeg  f512d71f8e450fee12b208db3fcda1e0f95c12a4       265   \n",
       " 7   KnownFaces/33.jpeg  a30dc94fa2c4dbeab36845dcb2922f0552bbb91f       259   \n",
       " 8     KnownFaces/3.png  321ca5751a99e1631c4b27a6af14cdca279f3d23       759   \n",
       " 9     KnownFaces/8.jpg  828a9e6545680259db9000c974c9b9b99edd3ff3       339   \n",
       " 10   KnownFaces/6.jpeg  5f068e6cb01b3ae45980aaf6b4884320d5dc160b       592   \n",
       " 11  KnownFaces/15.jpeg  d3c2cdb957dbfadd3f1c22f823d6f62899df743b       199   \n",
       " 12   KnownFaces/18.jpg  39cf03dbfef8e9a7829391fc8b2a20cd8e9331ab       373   \n",
       " 13  KnownFaces/17.jpeg  9b0bfc68803cb2cfb5a1ece888507a5a01d29dc6       156   \n",
       " 14   KnownFaces/16.jpg  090b3419f281073e42a1b353902b33a1e46aa2ab       941   \n",
       " 15   KnownFaces/35.jpg  133e8eb022bf96900d640a7bb354381af4adceb4       313   \n",
       " 16   KnownFaces/32.jpg  00dd452a6c8df652309532bcce04c50c1e798fff       233   \n",
       " 17   KnownFaces/25.jpg  0f24e440669003b9a9ecdb630eefdaa40171149a       404   \n",
       " 18   KnownFaces/30.jpg  0623430df3f7307f46b939f2a1d776495a4a8fd7       177   \n",
       " 19   KnownFaces/34.jpg  3053d8078835510d4605fd02ea90cd41267800d9       158   \n",
       " 20   KnownFaces/31.jpg  1dba0d6ae657f6877547a4db3ccfa99386b84043       227   \n",
       " 21  KnownFaces/13.jpeg  0a032bf370503792fc96fa81240d406be11b09eb       152   \n",
       " 22   KnownFaces/27.jpg  5cd0a2f8d1c3945ce1e0863dc895e36f4a33680e       322   \n",
       " 23   KnownFaces/14.jpg  14d139dbcc29ab888b617adcbe93fde1730e477c       220   \n",
       " 24    KnownFaces/9.jpg  0b3a86aadbed341b2ee4110e0f8086faad64f94d       365   \n",
       " 25   KnownFaces/24.jpg  3d84e7eda0ba888740265c2e5c5764b40a46c2e2       387   \n",
       " 26   KnownFaces/26.jpg  eb65b953a23b4aea1424c00674edb040927d5e0a       267   \n",
       " 27   KnownFaces/28.jpg  9033aacfe7b8b5bf6f39edee3a27ed9fec03a5f0       376   \n",
       " 28   KnownFaces/22.jpg  b2c6dfb421472994ab68015d10f3fce3f8a5cbbf       112   \n",
       " 29   KnownFaces/29.jpg  8e51c100f42a42f924ad0a4c302a4862d70dc9df       330   \n",
       " \n",
       "     target_y  target_w  target_h  source_x  source_y  source_w  source_h  \\\n",
       " 0         44       140       140       423        66       159       159   \n",
       " 1        103       161       161       423        66       159       159   \n",
       " 2         76       178       178       423        66       159       159   \n",
       " 3         65       140       140       423        66       159       159   \n",
       " 4         73        86        86       423        66       159       159   \n",
       " 5        110       254       254       423        66       159       159   \n",
       " 6        101       117       117       423        66       159       159   \n",
       " 7         87       126       126       423        66       159       159   \n",
       " 8        120       352       352       423        66       159       159   \n",
       " 9        164       315       315       423        66       159       159   \n",
       " 10       232       179       179       423        66       159       159   \n",
       " 11        72       216       216       423        66       159       159   \n",
       " 12       106       428       428       423        66       159       159   \n",
       " 13        61       226       226       423        66       159       159   \n",
       " 14       312       568       568       423        66       159       159   \n",
       " 15        68       173       173       423        66       159       159   \n",
       " 16        94       257       257       423        66       159       159   \n",
       " 17       113       432       432       423        66       159       159   \n",
       " 18        49       215       215       423        66       159       159   \n",
       " 19        42       119       119       423        66       159       159   \n",
       " 20        84       524       524       423        66       159       159   \n",
       " 21        36       119       119       423        66       159       159   \n",
       " 22        64       503       503       423        66       159       159   \n",
       " 23        11       286       286       423        66       159       159   \n",
       " 24        64       200       200       423        66       159       159   \n",
       " 25       126       433       433       423        66       159       159   \n",
       " 26        89       147       147       423        66       159       159   \n",
       " 27        87       491       491       423        66       159       159   \n",
       " 28       162       165       165       423        66       159       159   \n",
       " 29        53       207       207       423        66       159       159   \n",
       " \n",
       "     threshold  distance  \n",
       " 0        0.68  0.229536  \n",
       " 1        0.68  0.260113  \n",
       " 2        0.68  0.261832  \n",
       " 3        0.68  0.295154  \n",
       " 4        0.68  0.307411  \n",
       " 5        0.68  0.308868  \n",
       " 6        0.68  0.310766  \n",
       " 7        0.68  0.315420  \n",
       " 8        0.68  0.321217  \n",
       " 9        0.68  0.322679  \n",
       " 10       0.68  0.331566  \n",
       " 11       0.68  0.333790  \n",
       " 12       0.68  0.338056  \n",
       " 13       0.68  0.338988  \n",
       " 14       0.68  0.342471  \n",
       " 15       0.68  0.382863  \n",
       " 16       0.68  0.397394  \n",
       " 17       0.68  0.400044  \n",
       " 18       0.68  0.401917  \n",
       " 19       0.68  0.412948  \n",
       " 20       0.68  0.414145  \n",
       " 21       0.68  0.419479  \n",
       " 22       0.68  0.432945  \n",
       " 23       0.68  0.442112  \n",
       " 24       0.68  0.442259  \n",
       " 25       0.68  0.453410  \n",
       " 26       0.68  0.459060  \n",
       " 27       0.68  0.465349  \n",
       " 28       0.68  0.527634  \n",
       " 29       0.68  0.601633  ]"
      ]
     },
     "execution_count": 3,
     "metadata": {},
     "output_type": "execute_result"
    }
   ],
   "source": [
    "dfr.find(img_path = \"test_image/x1.jpeg\", \n",
    "                db_path = \"KnownFaces\", \n",
    "                model_name = \"VGG-Face\", \n",
    "                distance_metric = \"cosine\", \n",
    "                detector_backend = \"opencv\",\n",
    "                silent = False,\n",
    "                refresh_database = False\n",
    "            )"
   ]
  },
  {
   "cell_type": "markdown",
   "id": "38a8b684-98e1-458a-b996-5c3fefc9162a",
   "metadata": {},
   "source": [
    "![alt text](test_image/4.jpg)"
   ]
  },
  {
   "cell_type": "code",
   "execution_count": 4,
   "id": "c959d26f-55ff-4826-bda6-83d5e1121b0f",
   "metadata": {},
   "outputs": [
    {
     "name": "stdout",
     "output_type": "stream",
     "text": [
      "24-06-01 09:57:37 - Could be some changes in KnownFaces not tracked.Set refresh_database to true to assure that any changes will be tracked.\n",
      "24-06-01 09:57:37 - Searching test_image/4.jpg in 39 length datastore\n",
      "24-06-01 09:57:37 - find function duration 0.6327791213989258 seconds\n"
     ]
    },
    {
     "data": {
      "text/plain": [
       "[            identity                                      hash  target_x  \\\n",
       " 0  KnownFaces/1.jpeg  95d38d6d18c364b443d5593d1e05a2257815aa1e       982   \n",
       " 1   KnownFaces/8.jpg  828a9e6545680259db9000c974c9b9b99edd3ff3       361   \n",
       " 2  KnownFaces/25.jpg  0f24e440669003b9a9ecdb630eefdaa40171149a      1112   \n",
       " 3  KnownFaces/25.jpg  0f24e440669003b9a9ecdb630eefdaa40171149a        56   \n",
       " 4  KnownFaces/10.jpg  97eff64ed6e003d5302bf441b47f7514aecddb55       184   \n",
       " \n",
       "    target_y  target_w  target_h  source_x  source_y  source_w  source_h  \\\n",
       " 0       144       500       500       252         9       402       402   \n",
       " 1        24       114       114       252         9       402       402   \n",
       " 2       662        56        56       252         9       402       402   \n",
       " 3       613       114       114       252         9       402       402   \n",
       " 4       164       156       156       252         9       402       402   \n",
       " \n",
       "    threshold  distance  \n",
       " 0       0.68  0.274322  \n",
       " 1       0.68  0.377904  \n",
       " 2       0.68  0.508700  \n",
       " 3       0.68  0.585398  \n",
       " 4       0.68  0.638957  ]"
      ]
     },
     "execution_count": 4,
     "metadata": {},
     "output_type": "execute_result"
    }
   ],
   "source": [
    "dfr.find(img_path = \"test_image/4.jpg\", \n",
    "                db_path = \"KnownFaces\", \n",
    "                model_name = \"VGG-Face\", \n",
    "                distance_metric = \"cosine\", \n",
    "                detector_backend = \"opencv\",\n",
    "                silent = False,\n",
    "                refresh_database = False\n",
    "            )"
   ]
  },
  {
   "cell_type": "markdown",
   "id": "fdff2a0b-e3bc-4f14-b52e-2f80eaa25f8d",
   "metadata": {},
   "source": [
    "![alt text](test_image/3.jpg)"
   ]
  },
  {
   "cell_type": "code",
   "execution_count": 5,
   "id": "975e35cf-d3af-46dd-b9a8-c8b81c2a1e5e",
   "metadata": {},
   "outputs": [
    {
     "name": "stdout",
     "output_type": "stream",
     "text": [
      "24-06-01 09:57:37 - Could be some changes in KnownFaces not tracked.Set refresh_database to true to assure that any changes will be tracked.\n",
      "24-06-01 09:57:37 - Searching test_image/3.jpg in 39 length datastore\n",
      "24-06-01 09:57:38 - find function duration 0.7128481864929199 seconds\n"
     ]
    },
    {
     "data": {
      "text/plain": [
       "[             identity                                      hash  target_x  \\\n",
       " 0   KnownFaces/25.jpg  0f24e440669003b9a9ecdb630eefdaa40171149a       404   \n",
       " 1   KnownFaces/24.jpg  3d84e7eda0ba888740265c2e5c5764b40a46c2e2       387   \n",
       " 2   KnownFaces/35.jpg  133e8eb022bf96900d640a7bb354381af4adceb4       313   \n",
       " 3  KnownFaces/19.jpeg  2b905492e34beb41350b32fbb6544b89552fd4ee       121   \n",
       " \n",
       "    target_y  target_w  target_h  source_x  source_y  source_w  source_h  \\\n",
       " 0       113       432       432       212       509       340       340   \n",
       " 1       126       433       433       212       509       340       340   \n",
       " 2        68       173       173       212       509       340       340   \n",
       " 3        76       178       178       212       509       340       340   \n",
       " \n",
       "    threshold  distance  \n",
       " 0       0.68  0.608188  \n",
       " 1       0.68  0.660179  \n",
       " 2       0.68  0.664680  \n",
       " 3       0.68  0.674499  ]"
      ]
     },
     "execution_count": 5,
     "metadata": {},
     "output_type": "execute_result"
    }
   ],
   "source": [
    "dfr.find(img_path = \"test_image/3.jpg\", \n",
    "                db_path = \"KnownFaces\", \n",
    "                model_name = \"VGG-Face\", \n",
    "                distance_metric = \"cosine\", \n",
    "                detector_backend = \"opencv\",\n",
    "                silent = False,\n",
    "                refresh_database = False\n",
    "            )"
   ]
  },
  {
   "cell_type": "markdown",
   "id": "bfe76960-f4a0-4fe5-afd0-95764cd3b1ae",
   "metadata": {},
   "source": [
    "![alt text](test_image/2.jpg)"
   ]
  },
  {
   "cell_type": "code",
   "execution_count": 6,
   "id": "57a50f79-18cf-4ef4-a9b0-4dad4c53d0a2",
   "metadata": {},
   "outputs": [
    {
     "name": "stdout",
     "output_type": "stream",
     "text": [
      "24-06-01 09:57:38 - Could be some changes in KnownFaces not tracked.Set refresh_database to true to assure that any changes will be tracked.\n",
      "24-06-01 09:57:38 - Searching test_image/2.jpg in 39 length datastore\n",
      "24-06-01 09:57:39 - find function duration 0.6234345436096191 seconds\n"
     ]
    },
    {
     "data": {
      "text/plain": [
       "[Empty DataFrame\n",
       " Columns: [identity, hash, target_x, target_y, target_w, target_h, source_x, source_y, source_w, source_h, threshold, distance]\n",
       " Index: []]"
      ]
     },
     "execution_count": 6,
     "metadata": {},
     "output_type": "execute_result"
    }
   ],
   "source": [
    "dfr.find(img_path = \"test_image/2.jpg\", \n",
    "                db_path = \"KnownFaces\", \n",
    "                model_name = \"VGG-Face\", \n",
    "                distance_metric = \"cosine\", \n",
    "                detector_backend = \"opencv\",\n",
    "                silent = False,\n",
    "                refresh_database = False\n",
    "            )"
   ]
  },
  {
   "cell_type": "markdown",
   "id": "c6b8d2fe-47c7-48c3-99e6-ca8b48539518",
   "metadata": {},
   "source": [
    "![alt text](test_image/6.jpg)"
   ]
  },
  {
   "cell_type": "code",
   "execution_count": 7,
   "id": "c435e682-0a6e-4b86-8001-427f2a8fa58e",
   "metadata": {},
   "outputs": [
    {
     "name": "stdout",
     "output_type": "stream",
     "text": [
      "24-06-01 09:57:39 - Could be some changes in KnownFaces not tracked.Set refresh_database to true to assure that any changes will be tracked.\n",
      "24-06-01 09:57:39 - Searching test_image/6.jpg in 39 length datastore\n",
      "24-06-01 09:57:39 - find function duration 0.7040300369262695 seconds\n"
     ]
    },
    {
     "data": {
      "text/plain": [
       "[              identity                                      hash  target_x  \\\n",
       " 0     KnownFaces/2.jpg  16af9363c0924c7d71dadd82f2298c448824646f       307   \n",
       " 1   KnownFaces/19.jpeg  2b905492e34beb41350b32fbb6544b89552fd4ee       121   \n",
       " 2    KnownFaces/25.jpg  0f24e440669003b9a9ecdb630eefdaa40171149a       404   \n",
       " 3    KnownFaces/35.jpg  133e8eb022bf96900d640a7bb354381af4adceb4       313   \n",
       " 4    KnownFaces/24.jpg  3d84e7eda0ba888740265c2e5c5764b40a46c2e2       387   \n",
       " 5    KnownFaces/30.jpg  0623430df3f7307f46b939f2a1d776495a4a8fd7       177   \n",
       " 6    KnownFaces/20.jpg  4defe3660f42e7e51328723a2b8d44bf93da9cc4       233   \n",
       " 7   KnownFaces/17.jpeg  9b0bfc68803cb2cfb5a1ece888507a5a01d29dc6       156   \n",
       " 8    KnownFaces/12.jpg  dbd52cd18b12ffd6c2fe7c9fd0ebdd42327e899d       354   \n",
       " 9    KnownFaces/28.jpg  9033aacfe7b8b5bf6f39edee3a27ed9fec03a5f0       376   \n",
       " 10  KnownFaces/33.jpeg  a30dc94fa2c4dbeab36845dcb2922f0552bbb91f       259   \n",
       " 11   KnownFaces/6.jpeg  5f068e6cb01b3ae45980aaf6b4884320d5dc160b       592   \n",
       " 12  KnownFaces/15.jpeg  d3c2cdb957dbfadd3f1c22f823d6f62899df743b       199   \n",
       " 13   KnownFaces/16.jpg  090b3419f281073e42a1b353902b33a1e46aa2ab       941   \n",
       " 14   KnownFaces/34.jpg  3053d8078835510d4605fd02ea90cd41267800d9       158   \n",
       " 15   KnownFaces/10.jpg  97eff64ed6e003d5302bf441b47f7514aecddb55       271   \n",
       " 16   KnownFaces/4.jpeg  f512d71f8e450fee12b208db3fcda1e0f95c12a4       265   \n",
       " 17   KnownFaces/26.jpg  eb65b953a23b4aea1424c00674edb040927d5e0a       267   \n",
       " 18    KnownFaces/9.jpg  0b3a86aadbed341b2ee4110e0f8086faad64f94d       365   \n",
       " 19   KnownFaces/5.jpeg  95c6e97d7271f0f8290924478c5263cbd7439a88       308   \n",
       " 20    KnownFaces/8.jpg  828a9e6545680259db9000c974c9b9b99edd3ff3       339   \n",
       " 21   KnownFaces/18.jpg  39cf03dbfef8e9a7829391fc8b2a20cd8e9331ab       373   \n",
       " 22   KnownFaces/14.jpg  14d139dbcc29ab888b617adcbe93fde1730e477c       220   \n",
       " 23  KnownFaces/13.jpeg  0a032bf370503792fc96fa81240d406be11b09eb       152   \n",
       " 24    KnownFaces/3.png  321ca5751a99e1631c4b27a6af14cdca279f3d23       759   \n",
       " \n",
       "     target_y  target_w  target_h  source_x  source_y  source_w  source_h  \\\n",
       " 0         65       140       140       228       284       259       259   \n",
       " 1         76       178       178       228       284       259       259   \n",
       " 2        113       432       432       228       284       259       259   \n",
       " 3         68       173       173       228       284       259       259   \n",
       " 4        126       433       433       228       284       259       259   \n",
       " 5         49       215       215       228       284       259       259   \n",
       " 6         44       140       140       228       284       259       259   \n",
       " 7         61       226       226       228       284       259       259   \n",
       " 8        103       161       161       228       284       259       259   \n",
       " 9         87       491       491       228       284       259       259   \n",
       " 10        87       126       126       228       284       259       259   \n",
       " 11       232       179       179       228       284       259       259   \n",
       " 12        72       216       216       228       284       259       259   \n",
       " 13       312       568       568       228       284       259       259   \n",
       " 14        42       119       119       228       284       259       259   \n",
       " 15       110       254       254       228       284       259       259   \n",
       " 16       101       117       117       228       284       259       259   \n",
       " 17        89       147       147       228       284       259       259   \n",
       " 18        64       200       200       228       284       259       259   \n",
       " 19        73        86        86       228       284       259       259   \n",
       " 20       164       315       315       228       284       259       259   \n",
       " 21       106       428       428       228       284       259       259   \n",
       " 22        11       286       286       228       284       259       259   \n",
       " 23        36       119       119       228       284       259       259   \n",
       " 24       120       352       352       228       284       259       259   \n",
       " \n",
       "     threshold  distance  \n",
       " 0        0.68  0.473235  \n",
       " 1        0.68  0.487221  \n",
       " 2        0.68  0.515463  \n",
       " 3        0.68  0.515923  \n",
       " 4        0.68  0.520240  \n",
       " 5        0.68  0.536737  \n",
       " 6        0.68  0.540306  \n",
       " 7        0.68  0.556175  \n",
       " 8        0.68  0.562685  \n",
       " 9        0.68  0.565690  \n",
       " 10       0.68  0.569474  \n",
       " 11       0.68  0.601992  \n",
       " 12       0.68  0.608870  \n",
       " 13       0.68  0.610620  \n",
       " 14       0.68  0.612488  \n",
       " 15       0.68  0.618076  \n",
       " 16       0.68  0.620508  \n",
       " 17       0.68  0.620750  \n",
       " 18       0.68  0.637384  \n",
       " 19       0.68  0.640901  \n",
       " 20       0.68  0.640927  \n",
       " 21       0.68  0.644886  \n",
       " 22       0.68  0.651686  \n",
       " 23       0.68  0.664274  \n",
       " 24       0.68  0.679766  ]"
      ]
     },
     "execution_count": 7,
     "metadata": {},
     "output_type": "execute_result"
    }
   ],
   "source": [
    "dfr.find(img_path = \"test_image/6.jpg\", \n",
    "                db_path = \"KnownFaces\", \n",
    "                model_name = \"VGG-Face\", \n",
    "                distance_metric = \"cosine\", \n",
    "                detector_backend = \"opencv\",\n",
    "                silent = False,\n",
    "                refresh_database = False\n",
    "            )"
   ]
  },
  {
   "cell_type": "markdown",
   "id": "42e4e599-3f4d-41d5-b505-535def757b3c",
   "metadata": {},
   "source": [
    "![alt text](test_image/7.jpg)"
   ]
  },
  {
   "cell_type": "code",
   "execution_count": 8,
   "id": "eab1ad7b-105e-41aa-9763-07b0da47209b",
   "metadata": {},
   "outputs": [
    {
     "name": "stdout",
     "output_type": "stream",
     "text": [
      "24-06-01 09:57:39 - Could be some changes in KnownFaces not tracked.Set refresh_database to true to assure that any changes will be tracked.\n",
      "24-06-01 09:57:39 - Searching test_image/7.jpg in 39 length datastore\n",
      "24-06-01 09:57:40 - find function duration 0.6099574565887451 seconds\n"
     ]
    },
    {
     "data": {
      "text/plain": [
       "[             identity                                      hash  target_x  \\\n",
       " 0   KnownFaces/24.jpg  3d84e7eda0ba888740265c2e5c5764b40a46c2e2       387   \n",
       " 1   KnownFaces/25.jpg  0f24e440669003b9a9ecdb630eefdaa40171149a       404   \n",
       " 2   KnownFaces/26.jpg  eb65b953a23b4aea1424c00674edb040927d5e0a       267   \n",
       " 3   KnownFaces/35.jpg  133e8eb022bf96900d640a7bb354381af4adceb4       313   \n",
       " 4   KnownFaces/30.jpg  0623430df3f7307f46b939f2a1d776495a4a8fd7       177   \n",
       " 5    KnownFaces/2.jpg  16af9363c0924c7d71dadd82f2298c448824646f       307   \n",
       " 6   KnownFaces/34.jpg  3053d8078835510d4605fd02ea90cd41267800d9       158   \n",
       " 7   KnownFaces/6.jpeg  5f068e6cb01b3ae45980aaf6b4884320d5dc160b       592   \n",
       " 8  KnownFaces/33.jpeg  a30dc94fa2c4dbeab36845dcb2922f0552bbb91f       259   \n",
       " 9   KnownFaces/28.jpg  9033aacfe7b8b5bf6f39edee3a27ed9fec03a5f0       376   \n",
       " \n",
       "    target_y  target_w  target_h  source_x  source_y  source_w  source_h  \\\n",
       " 0       126       433       433       185        85       247       247   \n",
       " 1       113       432       432       185        85       247       247   \n",
       " 2        89       147       147       185        85       247       247   \n",
       " 3        68       173       173       185        85       247       247   \n",
       " 4        49       215       215       185        85       247       247   \n",
       " 5        65       140       140       185        85       247       247   \n",
       " 6        42       119       119       185        85       247       247   \n",
       " 7       232       179       179       185        85       247       247   \n",
       " 8        87       126       126       185        85       247       247   \n",
       " 9        87       491       491       185        85       247       247   \n",
       " \n",
       "    threshold  distance  \n",
       " 0       0.68  0.541445  \n",
       " 1       0.68  0.622595  \n",
       " 2       0.68  0.634874  \n",
       " 3       0.68  0.650861  \n",
       " 4       0.68  0.651082  \n",
       " 5       0.68  0.657053  \n",
       " 6       0.68  0.670715  \n",
       " 7       0.68  0.671314  \n",
       " 8       0.68  0.677093  \n",
       " 9       0.68  0.678234  ]"
      ]
     },
     "execution_count": 8,
     "metadata": {},
     "output_type": "execute_result"
    }
   ],
   "source": [
    "dfr.find(img_path = \"test_image/7.jpg\", \n",
    "                db_path = \"KnownFaces\", \n",
    "                model_name = \"VGG-Face\", \n",
    "                distance_metric = \"cosine\", \n",
    "                detector_backend = \"opencv\",\n",
    "                silent = False,\n",
    "                refresh_database = False\n",
    "            )"
   ]
  },
  {
   "cell_type": "markdown",
   "id": "5e966c0c-993a-4cb3-b700-b84723e07285",
   "metadata": {},
   "source": [
    "![alt text](test_image/8.jpg)"
   ]
  },
  {
   "cell_type": "code",
   "execution_count": 9,
   "id": "3df34904-94a5-4d41-94e2-0a3823040130",
   "metadata": {},
   "outputs": [
    {
     "name": "stdout",
     "output_type": "stream",
     "text": [
      "24-06-01 09:57:40 - Could be some changes in KnownFaces not tracked.Set refresh_database to true to assure that any changes will be tracked.\n",
      "24-06-01 09:57:40 - Searching test_image/8.jpg in 39 length datastore\n",
      "24-06-01 09:57:41 - find function duration 0.6940841674804688 seconds\n"
     ]
    },
    {
     "data": {
      "text/plain": [
       "[              identity                                      hash  target_x  \\\n",
       " 0     KnownFaces/2.jpg  16af9363c0924c7d71dadd82f2298c448824646f       307   \n",
       " 1    KnownFaces/24.jpg  3d84e7eda0ba888740265c2e5c5764b40a46c2e2       387   \n",
       " 2    KnownFaces/20.jpg  4defe3660f42e7e51328723a2b8d44bf93da9cc4       233   \n",
       " 3    KnownFaces/4.jpeg  f512d71f8e450fee12b208db3fcda1e0f95c12a4       265   \n",
       " 4    KnownFaces/6.jpeg  5f068e6cb01b3ae45980aaf6b4884320d5dc160b       592   \n",
       " 5    KnownFaces/27.jpg  5cd0a2f8d1c3945ce1e0863dc895e36f4a33680e       322   \n",
       " 6    KnownFaces/28.jpg  9033aacfe7b8b5bf6f39edee3a27ed9fec03a5f0       376   \n",
       " 7   KnownFaces/13.jpeg  0a032bf370503792fc96fa81240d406be11b09eb       152   \n",
       " 8    KnownFaces/35.jpg  133e8eb022bf96900d640a7bb354381af4adceb4       313   \n",
       " 9    KnownFaces/5.jpeg  95c6e97d7271f0f8290924478c5263cbd7439a88       308   \n",
       " 10   KnownFaces/12.jpg  dbd52cd18b12ffd6c2fe7c9fd0ebdd42327e899d       354   \n",
       " 11   KnownFaces/18.jpg  39cf03dbfef8e9a7829391fc8b2a20cd8e9331ab       373   \n",
       " 12   KnownFaces/10.jpg  97eff64ed6e003d5302bf441b47f7514aecddb55       271   \n",
       " 13   KnownFaces/25.jpg  0f24e440669003b9a9ecdb630eefdaa40171149a       404   \n",
       " 14  KnownFaces/17.jpeg  9b0bfc68803cb2cfb5a1ece888507a5a01d29dc6       156   \n",
       " 15   KnownFaces/30.jpg  0623430df3f7307f46b939f2a1d776495a4a8fd7       177   \n",
       " 16   KnownFaces/16.jpg  090b3419f281073e42a1b353902b33a1e46aa2ab       941   \n",
       " 17    KnownFaces/3.png  321ca5751a99e1631c4b27a6af14cdca279f3d23       759   \n",
       " 18   KnownFaces/34.jpg  3053d8078835510d4605fd02ea90cd41267800d9       158   \n",
       " 19  KnownFaces/15.jpeg  d3c2cdb957dbfadd3f1c22f823d6f62899df743b       199   \n",
       " 20  KnownFaces/19.jpeg  2b905492e34beb41350b32fbb6544b89552fd4ee       121   \n",
       " 21  KnownFaces/33.jpeg  a30dc94fa2c4dbeab36845dcb2922f0552bbb91f       259   \n",
       " 22   KnownFaces/32.jpg  00dd452a6c8df652309532bcce04c50c1e798fff       233   \n",
       " 23   KnownFaces/26.jpg  eb65b953a23b4aea1424c00674edb040927d5e0a       267   \n",
       " \n",
       "     target_y  target_w  target_h  source_x  source_y  source_w  source_h  \\\n",
       " 0         65       140       140       237       503        87        87   \n",
       " 1        126       433       433       237       503        87        87   \n",
       " 2         44       140       140       237       503        87        87   \n",
       " 3        101       117       117       237       503        87        87   \n",
       " 4        232       179       179       237       503        87        87   \n",
       " 5         64       503       503       237       503        87        87   \n",
       " 6         87       491       491       237       503        87        87   \n",
       " 7         36       119       119       237       503        87        87   \n",
       " 8         68       173       173       237       503        87        87   \n",
       " 9         73        86        86       237       503        87        87   \n",
       " 10       103       161       161       237       503        87        87   \n",
       " 11       106       428       428       237       503        87        87   \n",
       " 12       110       254       254       237       503        87        87   \n",
       " 13       113       432       432       237       503        87        87   \n",
       " 14        61       226       226       237       503        87        87   \n",
       " 15        49       215       215       237       503        87        87   \n",
       " 16       312       568       568       237       503        87        87   \n",
       " 17       120       352       352       237       503        87        87   \n",
       " 18        42       119       119       237       503        87        87   \n",
       " 19        72       216       216       237       503        87        87   \n",
       " 20        76       178       178       237       503        87        87   \n",
       " 21        87       126       126       237       503        87        87   \n",
       " 22        94       257       257       237       503        87        87   \n",
       " 23        89       147       147       237       503        87        87   \n",
       " \n",
       "     threshold  distance  \n",
       " 0        0.68  0.438676  \n",
       " 1        0.68  0.465372  \n",
       " 2        0.68  0.474809  \n",
       " 3        0.68  0.493723  \n",
       " 4        0.68  0.502837  \n",
       " 5        0.68  0.518830  \n",
       " 6        0.68  0.539170  \n",
       " 7        0.68  0.563066  \n",
       " 8        0.68  0.569068  \n",
       " 9        0.68  0.573762  \n",
       " 10       0.68  0.582658  \n",
       " 11       0.68  0.584477  \n",
       " 12       0.68  0.584954  \n",
       " 13       0.68  0.585823  \n",
       " 14       0.68  0.588012  \n",
       " 15       0.68  0.594863  \n",
       " 16       0.68  0.601086  \n",
       " 17       0.68  0.602360  \n",
       " 18       0.68  0.604750  \n",
       " 19       0.68  0.605552  \n",
       " 20       0.68  0.610029  \n",
       " 21       0.68  0.619649  \n",
       " 22       0.68  0.633189  \n",
       " 23       0.68  0.653802  ]"
      ]
     },
     "execution_count": 9,
     "metadata": {},
     "output_type": "execute_result"
    }
   ],
   "source": [
    "dfr.find(img_path = \"test_image/8.jpg\", \n",
    "                db_path = \"KnownFaces\", \n",
    "                model_name = \"VGG-Face\", \n",
    "                distance_metric = \"cosine\", \n",
    "                detector_backend = \"opencv\",\n",
    "                silent = False,\n",
    "                refresh_database = False\n",
    "            )"
   ]
  },
  {
   "cell_type": "markdown",
   "id": "7e47c9c0-89f6-49f2-8c8d-5a3787240093",
   "metadata": {},
   "source": [
    "![alt text](test_image/9.jpg)"
   ]
  },
  {
   "cell_type": "code",
   "execution_count": 10,
   "id": "1be2f094-98b5-44d1-9852-83e9449d165c",
   "metadata": {},
   "outputs": [
    {
     "name": "stdout",
     "output_type": "stream",
     "text": [
      "24-06-01 09:57:42 - Could be some changes in KnownFaces not tracked.Set refresh_database to true to assure that any changes will be tracked.\n",
      "24-06-01 09:57:42 - Searching test_image/9.jpg in 39 length datastore\n",
      "24-06-01 09:57:43 - find function duration 0.6999986171722412 seconds\n"
     ]
    },
    {
     "data": {
      "text/plain": [
       "[              identity                                      hash  target_x  \\\n",
       " 0     KnownFaces/2.jpg  16af9363c0924c7d71dadd82f2298c448824646f       307   \n",
       " 1    KnownFaces/12.jpg  dbd52cd18b12ffd6c2fe7c9fd0ebdd42327e899d       354   \n",
       " 2    KnownFaces/18.jpg  39cf03dbfef8e9a7829391fc8b2a20cd8e9331ab       373   \n",
       " 3   KnownFaces/33.jpeg  a30dc94fa2c4dbeab36845dcb2922f0552bbb91f       259   \n",
       " 4    KnownFaces/5.jpeg  95c6e97d7271f0f8290924478c5263cbd7439a88       308   \n",
       " 5   KnownFaces/19.jpeg  2b905492e34beb41350b32fbb6544b89552fd4ee       121   \n",
       " 6    KnownFaces/35.jpg  133e8eb022bf96900d640a7bb354381af4adceb4       313   \n",
       " 7    KnownFaces/20.jpg  4defe3660f42e7e51328723a2b8d44bf93da9cc4       233   \n",
       " 8    KnownFaces/6.jpeg  5f068e6cb01b3ae45980aaf6b4884320d5dc160b       592   \n",
       " 9     KnownFaces/8.jpg  828a9e6545680259db9000c974c9b9b99edd3ff3       339   \n",
       " 10   KnownFaces/22.jpg  b2c6dfb421472994ab68015d10f3fce3f8a5cbbf       112   \n",
       " 11   KnownFaces/25.jpg  0f24e440669003b9a9ecdb630eefdaa40171149a       404   \n",
       " 12   KnownFaces/26.jpg  eb65b953a23b4aea1424c00674edb040927d5e0a       267   \n",
       " 13  KnownFaces/17.jpeg  9b0bfc68803cb2cfb5a1ece888507a5a01d29dc6       156   \n",
       " 14   KnownFaces/24.jpg  3d84e7eda0ba888740265c2e5c5764b40a46c2e2       387   \n",
       " 15   KnownFaces/4.jpeg  f512d71f8e450fee12b208db3fcda1e0f95c12a4       265   \n",
       " 16  KnownFaces/15.jpeg  d3c2cdb957dbfadd3f1c22f823d6f62899df743b       199   \n",
       " 17    KnownFaces/3.png  321ca5751a99e1631c4b27a6af14cdca279f3d23       759   \n",
       " \n",
       "     target_y  target_w  target_h  source_x  source_y  source_w  source_h  \\\n",
       " 0         65       140       140       136       500       350       350   \n",
       " 1        103       161       161       136       500       350       350   \n",
       " 2        106       428       428       136       500       350       350   \n",
       " 3         87       126       126       136       500       350       350   \n",
       " 4         73        86        86       136       500       350       350   \n",
       " 5         76       178       178       136       500       350       350   \n",
       " 6         68       173       173       136       500       350       350   \n",
       " 7         44       140       140       136       500       350       350   \n",
       " 8        232       179       179       136       500       350       350   \n",
       " 9        164       315       315       136       500       350       350   \n",
       " 10       162       165       165       136       500       350       350   \n",
       " 11       113       432       432       136       500       350       350   \n",
       " 12        89       147       147       136       500       350       350   \n",
       " 13        61       226       226       136       500       350       350   \n",
       " 14       126       433       433       136       500       350       350   \n",
       " 15       101       117       117       136       500       350       350   \n",
       " 16        72       216       216       136       500       350       350   \n",
       " 17       120       352       352       136       500       350       350   \n",
       " \n",
       "     threshold  distance  \n",
       " 0        0.68  0.522000  \n",
       " 1        0.68  0.563353  \n",
       " 2        0.68  0.564133  \n",
       " 3        0.68  0.575669  \n",
       " 4        0.68  0.596762  \n",
       " 5        0.68  0.602140  \n",
       " 6        0.68  0.624861  \n",
       " 7        0.68  0.626611  \n",
       " 8        0.68  0.634244  \n",
       " 9        0.68  0.635493  \n",
       " 10       0.68  0.641712  \n",
       " 11       0.68  0.644505  \n",
       " 12       0.68  0.648841  \n",
       " 13       0.68  0.651616  \n",
       " 14       0.68  0.653113  \n",
       " 15       0.68  0.657294  \n",
       " 16       0.68  0.670491  \n",
       " 17       0.68  0.678808  ]"
      ]
     },
     "execution_count": 10,
     "metadata": {},
     "output_type": "execute_result"
    }
   ],
   "source": [
    "dfr.find(img_path = \"test_image/9.jpg\", \n",
    "                db_path = \"KnownFaces\", \n",
    "                model_name = \"VGG-Face\", \n",
    "                distance_metric = \"cosine\", \n",
    "                detector_backend = \"opencv\",\n",
    "                silent = False,\n",
    "                refresh_database = False\n",
    "            )"
   ]
  },
  {
   "cell_type": "markdown",
   "id": "602946d0-35fc-46b8-82c6-f681d11cb800",
   "metadata": {},
   "source": [
    "![alt text](test_image/10.jpg)"
   ]
  },
  {
   "cell_type": "code",
   "execution_count": 11,
   "id": "80f0884e-1ce6-42ab-8240-4040163c5886",
   "metadata": {},
   "outputs": [
    {
     "name": "stdout",
     "output_type": "stream",
     "text": [
      "24-06-01 09:57:45 - Could be some changes in KnownFaces not tracked.Set refresh_database to true to assure that any changes will be tracked.\n",
      "24-06-01 09:57:45 - Searching test_image/10.jpg in 39 length datastore\n",
      "24-06-01 09:57:46 - find function duration 0.5951085090637207 seconds\n"
     ]
    },
    {
     "data": {
      "text/plain": [
       "[            identity                                      hash  target_x  \\\n",
       " 0  KnownFaces/22.jpg  b2c6dfb421472994ab68015d10f3fce3f8a5cbbf       112   \n",
       " 1  KnownFaces/31.jpg  1dba0d6ae657f6877547a4db3ccfa99386b84043       227   \n",
       " 2  KnownFaces/29.jpg  8e51c100f42a42f924ad0a4c302a4862d70dc9df       330   \n",
       " 3  KnownFaces/12.jpg  dbd52cd18b12ffd6c2fe7c9fd0ebdd42327e899d       354   \n",
       " 4  KnownFaces/14.jpg  14d139dbcc29ab888b617adcbe93fde1730e477c       220   \n",
       " 5  KnownFaces/35.jpg  133e8eb022bf96900d640a7bb354381af4adceb4       313   \n",
       " 6  KnownFaces/18.jpg  39cf03dbfef8e9a7829391fc8b2a20cd8e9331ab       373   \n",
       " 7  KnownFaces/28.jpg  9033aacfe7b8b5bf6f39edee3a27ed9fec03a5f0       376   \n",
       " \n",
       "    target_y  target_w  target_h  source_x  source_y  source_w  source_h  \\\n",
       " 0       162       165       165       319        35       460       460   \n",
       " 1        84       524       524       319        35       460       460   \n",
       " 2        53       207       207       319        35       460       460   \n",
       " 3       103       161       161       319        35       460       460   \n",
       " 4        11       286       286       319        35       460       460   \n",
       " 5        68       173       173       319        35       460       460   \n",
       " 6       106       428       428       319        35       460       460   \n",
       " 7        87       491       491       319        35       460       460   \n",
       " \n",
       "    threshold  distance  \n",
       " 0       0.68  0.512368  \n",
       " 1       0.68  0.557350  \n",
       " 2       0.68  0.563948  \n",
       " 3       0.68  0.609575  \n",
       " 4       0.68  0.617591  \n",
       " 5       0.68  0.633914  \n",
       " 6       0.68  0.639653  \n",
       " 7       0.68  0.660480  ]"
      ]
     },
     "execution_count": 11,
     "metadata": {},
     "output_type": "execute_result"
    }
   ],
   "source": [
    "dfr.find(img_path = \"test_image/10.jpg\", \n",
    "                db_path = \"KnownFaces\", \n",
    "                model_name = \"VGG-Face\", \n",
    "                distance_metric = \"cosine\", \n",
    "                detector_backend = \"opencv\",\n",
    "                silent = False,\n",
    "                refresh_database = False\n",
    "            )"
   ]
  },
  {
   "cell_type": "code",
   "execution_count": null,
   "id": "96fef332-a603-4647-94e9-7ab4c5970a9d",
   "metadata": {},
   "outputs": [],
   "source": []
  }
 ],
 "metadata": {
  "kernelspec": {
   "display_name": "Python 3 (ipykernel)",
   "language": "python",
   "name": "python3"
  },
  "language_info": {
   "codemirror_mode": {
    "name": "ipython",
    "version": 3
   },
   "file_extension": ".py",
   "mimetype": "text/x-python",
   "name": "python",
   "nbconvert_exporter": "python",
   "pygments_lexer": "ipython3",
   "version": "3.10.11"
  }
 },
 "nbformat": 4,
 "nbformat_minor": 5
}
