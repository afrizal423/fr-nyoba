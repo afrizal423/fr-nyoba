{
 "cells": [
  {
   "cell_type": "code",
   "execution_count": 1,
   "id": "2ebc6f10-b299-4d71-b516-cd318c0f2a00",
   "metadata": {},
   "outputs": [
    {
     "name": "stdout",
     "output_type": "stream",
     "text": [
      "WARNING:tensorflow:From D:\\project\\fr\\fr_qc\\myenv\\lib\\site-packages\\tf_keras\\src\\losses.py:2976: The name tf.losses.sparse_softmax_cross_entropy is deprecated. Please use tf.compat.v1.losses.sparse_softmax_cross_entropy instead.\n",
      "\n"
     ]
    }
   ],
   "source": [
    "from deepface import DeepFace\n",
    "import recognition as dfr\n",
    "import os\n",
    "#liveness\n",
    "import tensorflow as tf\n",
    "import cv2, numpy as np"
   ]
  },
  {
   "cell_type": "code",
   "execution_count": 2,
   "id": "a8045586-e5d6-4322-ba38-303f1eff6977",
   "metadata": {},
   "outputs": [],
   "source": [
    "ln = 'liveness.model'\n",
    "ln_model = tf.keras.models.load_model(ln)"
   ]
  },
  {
   "cell_type": "code",
   "execution_count": 3,
   "id": "0c7b1af4-3aeb-40ae-b5ce-d08b5239e2b0",
   "metadata": {},
   "outputs": [
    {
     "name": "stderr",
     "output_type": "stream",
     "text": [
      "'[alt' is not recognized as an internal or external command,\n",
      "operable program or batch file.\n"
     ]
    }
   ],
   "source": [
    "![alt text](test_image/x1.jpeg \"Gambar 2\")"
   ]
  },
  {
   "cell_type": "code",
   "execution_count": 7,
   "id": "43614781-ac0d-4bd3-a41f-385d3345908c",
   "metadata": {},
   "outputs": [
    {
     "name": "stdout",
     "output_type": "stream",
     "text": [
      "24-06-01 19:46:27 - Searching KnownFaces/2.jpg in 39 length datastore\n",
      "24-06-01 19:46:29 - find function duration 1.6281917095184326 seconds\n"
     ]
    }
   ],
   "source": [
    "img=\"KnownFaces/2.jpg\"\n",
    "res=DeepFace.find(img_path = img, \n",
    "            db_path = \"KnownFaces\", \n",
    "            model_name = \"VGG-Face\", \n",
    "            distance_metric = \"cosine\", \n",
    "            detector_backend = \"opencv\"\n",
    "        )"
   ]
  },
  {
   "cell_type": "code",
   "execution_count": 8,
   "id": "af271cb3-569a-4ed0-946d-9bfd390c9ff5",
   "metadata": {},
   "outputs": [
    {
     "data": {
      "text/plain": [
       "array([[[172, 179, 218],\n",
       "        [180, 188, 225],\n",
       "        [191, 199, 236],\n",
       "        ...,\n",
       "        [  0,  26, 102],\n",
       "        [  0,  28, 113],\n",
       "        [  0,  31, 120]],\n",
       "\n",
       "       [[171, 178, 217],\n",
       "        [179, 187, 224],\n",
       "        [191, 199, 236],\n",
       "        ...,\n",
       "        [  0,  29, 105],\n",
       "        [  0,  31, 116],\n",
       "        [  1,  33, 122]],\n",
       "\n",
       "       [[170, 177, 216],\n",
       "        [178, 186, 223],\n",
       "        [189, 197, 234],\n",
       "        ...,\n",
       "        [  1,  33, 109],\n",
       "        [  3,  34, 119],\n",
       "        [  3,  35, 124]],\n",
       "\n",
       "       ...,\n",
       "\n",
       "       [[  1,  30,  61],\n",
       "        [  1,  30,  61],\n",
       "        [  0,  29,  60],\n",
       "        ...,\n",
       "        [  3,  35,  70],\n",
       "        [  3,  35,  70],\n",
       "        [  4,  36,  71]],\n",
       "\n",
       "       [[  2,  31,  62],\n",
       "        [  2,  31,  62],\n",
       "        [  1,  30,  61],\n",
       "        ...,\n",
       "        [  0,  29,  64],\n",
       "        [  0,  30,  65],\n",
       "        [  0,  30,  65]],\n",
       "\n",
       "       [[  3,  32,  63],\n",
       "        [  3,  32,  63],\n",
       "        [  2,  31,  62],\n",
       "        ...,\n",
       "        [  0,  25,  60],\n",
       "        [  0,  26,  61],\n",
       "        [  0,  26,  61]]], dtype=uint8)"
      ]
     },
     "execution_count": 8,
     "metadata": {},
     "output_type": "execute_result"
    }
   ],
   "source": [
    "img = cv2.imread(img)\n",
    "img"
   ]
  },
  {
   "cell_type": "code",
   "execution_count": 9,
   "id": "47a9b79a-826c-4a9b-9138-214bebb8a376",
   "metadata": {},
   "outputs": [
    {
     "name": "stdout",
     "output_type": "stream",
     "text": [
      "1/1 [==============================] - 10s 10s/step\n",
      "0\n",
      "fake\n"
     ]
    }
   ],
   "source": [
    "# res[0]['identity'][0].split('/')[0].split('\\\\')[1]\n",
    "\n",
    "if len(res[0]['identity'])>0:\n",
    "    # name = res[0]['identity'][0].split('/')[1].split('\\\\')[1]\n",
    "    xmin = int(res[0]['source_x'][0])\n",
    "    ymin = int(res[0]['source_y'][0])\n",
    "    \n",
    "    w = res[0]['source_w'][0]\n",
    "    h = res[0]['source_h'][0]\n",
    "    \n",
    "    xmax = int(xmin + w)\n",
    "    ymax = int(ymin + h)\n",
    "    \n",
    "    #liveness\n",
    "    \n",
    "    # img = frame[ymin:ymax, xmin:xmax]\n",
    "    img2 = cv2.resize(img, (32,32))\n",
    "    img2 = img2.astype('float')/255.0\n",
    "    img2 = tf.keras.preprocessing.image.img_to_array(img2)\n",
    "    img2 = np.expand_dims(img2, axis=0)\n",
    "\n",
    "    # show the image, provide window name first\n",
    "    # cv2.imshow('image window', img2)\n",
    "    # # add wait key. window waits until user presses a key\n",
    "    # cv2.waitKey(0)\n",
    "    # # and finally destroy/close all open windows\n",
    "    # cv2.destroyAllWindows()\n",
    "    \n",
    "    liveness = ln_model.predict(img2)\n",
    "    \n",
    "    liveness = liveness[0].argmax()\n",
    "# liveness = ln_model.predict(img)\n",
    "\n",
    "    print(liveness)\n",
    "    if liveness==1:\n",
    "        print(\"real\")\n",
    "    else:\n",
    "        print(\"fake\")"
   ]
  },
  {
   "cell_type": "code",
   "execution_count": null,
   "id": "22aca077-9902-47f5-9c9b-6dd9ea4c84e4",
   "metadata": {},
   "outputs": [],
   "source": []
  }
 ],
 "metadata": {
  "kernelspec": {
   "display_name": "Python 3 (ipykernel)",
   "language": "python",
   "name": "python3"
  },
  "language_info": {
   "codemirror_mode": {
    "name": "ipython",
    "version": 3
   },
   "file_extension": ".py",
   "mimetype": "text/x-python",
   "name": "python",
   "nbconvert_exporter": "python",
   "pygments_lexer": "ipython3",
   "version": "3.10.11"
  }
 },
 "nbformat": 4,
 "nbformat_minor": 5
}
